{
 "cells": [
  {
   "cell_type": "code",
   "execution_count": null,
   "metadata": {
    "ExecuteTime": {
     "end_time": "2023-08-07T13:47:19.341522900Z",
     "start_time": "2023-08-07T13:47:19.333013100Z"
    },
    "id": "bbrw-1hVr--Y"
   },
   "outputs": [],
   "source": [
    "import random\n",
    "import matplotlib.pyplot as plt\n",
    "import networkx as nx\n",
    "from operator import itemgetter"
   ]
  },
  {
   "cell_type": "code",
   "execution_count": 8,
   "metadata": {
    "ExecuteTime": {
     "end_time": "2023-08-07T13:47:20.575757900Z",
     "start_time": "2023-08-07T13:47:20.564958700Z"
    }
   },
   "outputs": [],
   "source": [
    "def makeRandomGraph(h, b, k, alpha):\n",
    "    bT = nx.balanced_tree(b,h)\n",
    "    graph = nx.DiGraph()\n",
    "    for node1 in bT.nodes():\n",
    "        probDic=dict()\n",
    "        for node2 in bT.nodes():\n",
    "            sl=nx.shortest_path_length(bT, node1, node2)\n",
    "            p=b ** (-alpha * sl)\n",
    "            probDic[node2]=p\n",
    "        Z = sum(list(probDic.values()))\n",
    "        i = 1\n",
    "        while i <= k:\n",
    "            myNodes=list(probDic.keys())\n",
    "            myProbablities=list(probDic.values())\n",
    "            w = random.choices(myNodes,myProbablities)[0]\n",
    "            graph.add_edge(node1, w)\n",
    "            Z =Z-probDic[w]\n",
    "            probDic[w]= 0\n",
    "            if Z>0:\n",
    "                for v in probDic:\n",
    "                    probDic[v]=probDic[v]/Z\n",
    "            i=i+1\n",
    "    return graph"
   ]
  },
  {
   "cell_type": "code",
   "execution_count": 9,
   "metadata": {
    "ExecuteTime": {
     "end_time": "2023-08-07T13:47:25.120412300Z",
     "start_time": "2023-08-07T13:47:25.098794Z"
    },
    "id": "W1wWV1tNr--b"
   },
   "outputs": [],
   "source": [
    "def decenterlizedSearch(graph, s, t):\n",
    "    currentNode = s\n",
    "    pathLength = 0\n",
    "\n",
    "    while currentNode != t:\n",
    "        neighbors = list(graph.neighbors(currentNode))\n",
    "        ndic = dict()\n",
    "        for ne in neighbors:\n",
    "            ndic[ne] = nx.shortest_path_length(graph, ne, t)\n",
    "        x = sorted(ndic.items(), key=itemgetter(1))\n",
    "        next_node = x[0][0]\n",
    "        l1 = nx.shortest_path_length(graph, currentNode,  t)\n",
    "        l2 = nx.shortest_path_length(graph,  next_node, t)\n",
    "        if l2 > l1:\n",
    "            return -1\n",
    "        else:\n",
    "            currentNode = next_node\n",
    "            pathLength += 1\n",
    "\n",
    "        return pathLength"
   ]
  },
  {
   "cell_type": "code",
   "execution_count": 10,
   "metadata": {
    "ExecuteTime": {
     "end_time": "2023-08-07T13:47:27.652998800Z",
     "start_time": "2023-08-07T13:47:27.643314100Z"
    },
    "id": "W6VnMUJqr--z"
   },
   "outputs": [],
   "source": [
    "def Exp(h,b, k , alphaList, pairs):\n",
    "    averagePathLength = []\n",
    "    successfullSearchProb = []\n",
    "\n",
    "    for alpha in alphaList:\n",
    "        graph = makeRandomGraph(h, b, k, alpha)\n",
    "        pathLengths = []\n",
    "        success = 0\n",
    "        i=1\n",
    "        while i<=pairs:\n",
    "            s,t = random.sample(list(graph.nodes()), 2)\n",
    "            try:\n",
    "                pLen =  decenterlizedSearch(graph,s,t)\n",
    "                if pLen > -1:\n",
    "                    pathLengths.append(pLen)\n",
    "                    success=success+1\n",
    "            except nx.NetworkXNoPath:\n",
    "                continue\n",
    "            i=i+1\n",
    "        if len(pathLengths)>0:\n",
    "            avg=sum(pathLengths) / len(pathLengths)\n",
    "            averagePathLength.append(avg)\n",
    "            prob=success/pairs\n",
    "            successfullSearchProb.append(prob)\n",
    "    return averagePathLength , successfullSearchProb\n"
   ]
  },
  {
   "cell_type": "code",
   "execution_count": 11,
   "metadata": {
    "ExecuteTime": {
     "start_time": "2023-08-07T13:48:08.518574300Z"
    },
    "colab": {
     "base_uri": "https://localhost:8080/",
     "height": 443
    },
    "id": "1k1jSXaAr--0",
    "is_executing": true,
    "outputId": "533e2ee3-8659-4949-8103-91700fc1a1d4"
   },
   "outputs": [],
   "source": [
    "h = 10\n",
    "b= 2\n",
    "k= 5\n",
    "alphaList = []\n",
    "a=0.1\n",
    "while a<=10:\n",
    "    alphaList.append(a)\n",
    "    a=a+0.1\n",
    "pairs = 1000\n",
    "averagePathLengths, successfullSearchProbabilities = Exp(h, b, k, alphaList, pairs)"
   ]
  },
  {
   "cell_type": "code",
   "execution_count": null,
   "metadata": {
    "ExecuteTime": {
     "end_time": "2023-08-07T13:47:39.126942700Z",
     "start_time": "2023-08-07T13:47:38.691661700Z"
    }
   },
   "outputs": [],
   "source": [
    "plt.Figure()\n",
    "plt.plot(alphaList, averagePathLengths, marker=\"o\")\n",
    "plt.figure()\n",
    "plt.plot(alphaList, successfullSearchProbabilities , marker=\"o\")\n",
    "plt.show()"
   ]
  }
 ],
 "metadata": {
  "accelerator": "GPU",
  "colab": {
   "gpuType": "T4",
   "provenance": []
  },
  "kernelspec": {
   "display_name": "Python 3 (ipykernel)",
   "language": "python",
   "name": "python3"
  },
  "language_info": {
   "codemirror_mode": {
    "name": "ipython",
    "version": 3
   },
   "file_extension": ".py",
   "mimetype": "text/x-python",
   "name": "python",
   "nbconvert_exporter": "python",
   "pygments_lexer": "ipython3",
   "version": "3.11.4"
  }
 },
 "nbformat": 4,
 "nbformat_minor": 0
}
